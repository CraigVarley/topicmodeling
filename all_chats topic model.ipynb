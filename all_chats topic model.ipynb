{
  "metadata": {
    "language_info": {
      "codemirror_mode": {
        "name": "python",
        "version": 3
      },
      "file_extension": ".py",
      "mimetype": "text/x-python",
      "name": "python",
      "nbconvert_exporter": "python",
      "pygments_lexer": "ipython3",
      "version": "3.8"
    },
    "kernelspec": {
      "name": "python",
      "display_name": "Python (Pyodide)",
      "language": "python"
    }
  },
  "nbformat_minor": 4,
  "nbformat": 4,
  "cells": [
    {
      "cell_type": "code",
      "source": "import pandas as pd\nimport re",
      "metadata": {
        "trusted": true
      },
      "execution_count": 3,
      "outputs": []
    },
    {
      "cell_type": "code",
      "source": "# import the csv of all chats in the libraryh3lp system\ndf = pd.read_csv('all_chats.csv')",
      "metadata": {
        "trusted": true
      },
      "execution_count": 4,
      "outputs": []
    },
    {
      "cell_type": "code",
      "source": "# note how there are about 60 records that contain no text\n# which will need deleting\ndf.count()",
      "metadata": {
        "trusted": true
      },
      "execution_count": 5,
      "outputs": [
        {
          "execution_count": 5,
          "output_type": "execute_result",
          "data": {
            "text/plain": "id          6511\nguest       6511\nprotocol    6511\nqueue       6511\nprofile     6511\nstarted     6511\nwait        6171\nduration    6165\noperator    6171\nip          6490\nreferrer    6457\ntext        6452\ndtype: int64"
          },
          "metadata": {}
        }
      ]
    },
    {
      "cell_type": "code",
      "source": "# anonymize for librarian and patron\ndf_simple = df.drop(columns=['id', 'profile', 'ip', 'guest', 'protocol', 'queue', 'operator', 'referrer', 'wait'])",
      "metadata": {
        "trusted": true
      },
      "execution_count": 6,
      "outputs": []
    },
    {
      "cell_type": "code",
      "source": "# text looks like this\ndf_simple['text'].iloc[100]",
      "metadata": {
        "trusted": true
      },
      "execution_count": 7,
      "outputs": [
        {
          "execution_count": 7,
          "output_type": "execute_result",
          "data": {
            "text/plain": "'04:59AM 21wr6xn91mpkat@web.libraryh3lp.com: How to search for peer reviewed journals\\r\\n04:59AM cs-aluna@libraryh3lp.com/cjjv401qjlm5kj: Welcome to the Library chat. My name is Lana.\\r\\n04:59AM cs-aluna@libraryh3lp.com/cjjv401qjlm5kj: Let me take a look and see what I can recommend. \\r\\n05:01AM cs-aluna@libraryh3lp.com/cjjv401qjlm5kj: For peer reviewed journal articles  I would suggest starting a search using the Summon search box on this page:  <a href=\"https://libguides.lr.edu/rudisilllibrary\">https://libguides.lr.edu/rudisilllibrary</a>\\r\\n05:02AM cs-aluna@libraryh3lp.com/cjjv401qjlm5kj: Then click on more search options. On the new page on the leftside there is a limit to section. Click on Scholarly materials, including peer-reviewed  box. \\r\\n05:02AM cs-aluna@libraryh3lp.com/cjjv401qjlm5kj: Then enter your search terms and click search.\\r\\n05:02AM 21wr6xn91mpkat@web.libraryh3lp.com: and that will be peer reviewed journals or peer reviewed everything? \\r\\n05:03AM 21wr6xn91mpkat@web.libraryh3lp.com: sorry new to writing papers! been a long time!\\r\\n05:04AM cs-aluna@libraryh3lp.com/cjjv401qjlm5kj: no problem! All the results that are filtered will be  peer reviewed journal articles.\\r\\n05:04AM 21wr6xn91mpkat@web.libraryh3lp.com: okay thank you so much!\\r\\n05:04AM cs-aluna@libraryh3lp.com/cjjv401qjlm5kj: sure!\\r\\n05:04AM 21wr6xn91mpkat@web.libraryh3lp.com: wish you could write my paper for me LOL\\r\\n05:04AM cs-aluna@libraryh3lp.com/cjjv401qjlm5kj: Is there anything else I can help with?\\r\\n05:04AM 21wr6xn91mpkat@web.libraryh3lp.com: no that was it thanks!!\\r\\n05:04AM cs-aluna@libraryh3lp.com/cjjv401qjlm5kj: Thanks for using our library chat service, please do stop back if you have any further questions.\\r\\n'"
          },
          "metadata": {}
        }
      ]
    },
    {
      "cell_type": "code",
      "source": "# the same printed pretty\nprint(df_simple['text'].iloc[100])",
      "metadata": {
        "trusted": true
      },
      "execution_count": 8,
      "outputs": [
        {
          "name": "stdout",
          "text": "04:59AM 21wr6xn91mpkat@web.libraryh3lp.com: How to search for peer reviewed journals\n04:59AM cs-aluna@libraryh3lp.com/cjjv401qjlm5kj: Welcome to the Library chat. My name is Lana.\n04:59AM cs-aluna@libraryh3lp.com/cjjv401qjlm5kj: Let me take a look and see what I can recommend. \n05:01AM cs-aluna@libraryh3lp.com/cjjv401qjlm5kj: For peer reviewed journal articles  I would suggest starting a search using the Summon search box on this page:  <a href=\"https://libguides.lr.edu/rudisilllibrary\">https://libguides.lr.edu/rudisilllibrary</a>\n05:02AM cs-aluna@libraryh3lp.com/cjjv401qjlm5kj: Then click on more search options. On the new page on the leftside there is a limit to section. Click on Scholarly materials, including peer-reviewed  box. \n05:02AM cs-aluna@libraryh3lp.com/cjjv401qjlm5kj: Then enter your search terms and click search.\n05:02AM 21wr6xn91mpkat@web.libraryh3lp.com: and that will be peer reviewed journals or peer reviewed everything? \n05:03AM 21wr6xn91mpkat@web.libraryh3lp.com: sorry new to writing papers! been a long time!\n05:04AM cs-aluna@libraryh3lp.com/cjjv401qjlm5kj: no problem! All the results that are filtered will be  peer reviewed journal articles.\n05:04AM 21wr6xn91mpkat@web.libraryh3lp.com: okay thank you so much!\n05:04AM cs-aluna@libraryh3lp.com/cjjv401qjlm5kj: sure!\n05:04AM 21wr6xn91mpkat@web.libraryh3lp.com: wish you could write my paper for me LOL\n05:04AM cs-aluna@libraryh3lp.com/cjjv401qjlm5kj: Is there anything else I can help with?\n05:04AM 21wr6xn91mpkat@web.libraryh3lp.com: no that was it thanks!!\n05:04AM cs-aluna@libraryh3lp.com/cjjv401qjlm5kj: Thanks for using our library chat service, please do stop back if you have any further questions.\n\n",
          "output_type": "stream"
        }
      ]
    },
    {
      "cell_type": "code",
      "source": "# need to remove all non-alpha characters, as well as\n# urls and tags, and the final system message to get to the \n# unique message text. the following need to be turned into\n# a function but they all remove one thing or another from the text cells",
      "metadata": {
        "trusted": true
      },
      "execution_count": 9,
      "outputs": []
    },
    {
      "cell_type": "code",
      "source": "df_simple['text'] = df_simple['text'].str.replace('System message: guest navigated away from chat', '') # remove msg\ndf_simple['text'] = df_simple['text'].str.replace(r\"\\d\\d:\\d\\d[A-Z]M[^:]*:\", '', regex=True) #remove time/ids\ndf_simple['text'] = df_simple['text'].str.replace(r\"<.*?>\", '', regex=True) #remove tags\ndf_simple['text'] = df_simple['text'].apply(lambda x: re.split('https?:\\/\\/.*', str(x))[0]) #remove urls\ndf_simple['text'] = df_simple['text'].str.lower() #lowercase \ndf_simple['text'] = df_simple['text'].str.replace(r\"[^a-zA-Z]\", \" \", regex=True) # remove punctuation marks, replace with space",
      "metadata": {
        "trusted": true
      },
      "execution_count": 10,
      "outputs": []
    },
    {
      "cell_type": "code",
      "source": "# after this each cell looks like this\nprint(df_simple['text'].iloc[200])",
      "metadata": {
        "trusted": true
      },
      "execution_count": 11,
      "outputs": [
        {
          "name": "stdout",
          "text": " i am trying to watch a pbs video but it says that i have to pay for it  is there a way around that    hello  my name is alexandria  welcome to the library chat service    i believe i chatted earlier with your instructor about this     is this for lives well lived     yes   unfortunately  pbs is no longer making that available through their general website    the instructor said they might be able to provide access to students via a private account  and they were going to contact collections about getting a dvd    i presume they will contact the class when they have a solution    okay thank you    you re welcome  can i help you with anything else right now    i am good for now  thank you    have a good one  and thanks for using our library chat service    have a good day    you too        \n",
          "output_type": "stream"
        }
      ]
    },
    {
      "cell_type": "code",
      "source": "# now bring in NLTK lib for language cleaning\n# code either taken or adapted from https://github.com/lisanka93/text_analysis_python_101/blob/master/Railroad_incidents_USA2019.ipynb\n# via article file:///C:/Users/Craig.Varley/Zotero/storage/CTS2DNZC/nlp-101-%E2%85%94-linear-models-for-text-classification-8ced8199c2a8.html",
      "metadata": {
        "trusted": true
      },
      "execution_count": 12,
      "outputs": []
    },
    {
      "cell_type": "code",
      "source": "# different ways to stem and lemmatize all the words\nfrom nltk.stem import WordNetLemmatizer, PorterStemmer, SnowballStemmer",
      "metadata": {
        "trusted": true
      },
      "execution_count": 13,
      "outputs": []
    },
    {
      "cell_type": "code",
      "source": "# stop words. all commonfirst turn the txt file into a list\nstop_words_file = 'stopwordlist.txt'\nstop_words_list = []\n# open stopword file and split with commas to new list\n# with is a try/fail word that allows for error\nwith open(stop_words_file, 'r') as f:\n    for line in f:\n        stop_words_list.extend(line.split())\n# preview list        \nstop_words_list[0:10]",
      "metadata": {
        "trusted": true
      },
      "execution_count": 14,
      "outputs": [
        {
          "execution_count": 14,
          "output_type": "execute_result",
          "data": {
            "text/plain": "['a',\n \"a's\",\n 'able',\n 'about',\n 'above',\n 'according',\n 'accordingly',\n 'across',\n 'actually',\n 'after']"
          },
          "metadata": {}
        }
      ]
    },
    {
      "cell_type": "code",
      "source": "# split all strings in chats before function to\n# cut stop words, stem, or lemmatize\ndf_simple['text'] = df_simple['text'].str.split()\ndf_simple['text'].head()",
      "metadata": {
        "trusted": true
      },
      "execution_count": 15,
      "outputs": [
        {
          "execution_count": 15,
          "output_type": "execute_result",
          "data": {
            "text/plain": "0    [can, community, members, public, use, the, li...\n1    [what, are, your, hours, today, hi, rudisill, ...\n2                       [thank, you, you, re, welcome]\n3    [is, the, library, open, tomorrow, welcome, to...\n4    [hi, i, was, wondering, if, i, could, get, a, ...\nName: text, dtype: object"
          },
          "metadata": {}
        }
      ]
    },
    {
      "cell_type": "code",
      "source": "df_simple.dtypes",
      "metadata": {
        "trusted": true
      },
      "execution_count": 16,
      "outputs": [
        {
          "execution_count": 16,
          "output_type": "execute_result",
          "data": {
            "text/plain": "started     object\nduration    object\ntext        object\ndtype: object"
          },
          "metadata": {}
        }
      ]
    },
    {
      "cell_type": "code",
      "source": "# function from above urls adapted due to the preprocess lines above\ndef preprocess(text):\n\n    cleaned_words = []\n    words = text\n    # remove stopwords\n    for word in words:\n        if word not in stop_words_list:\n            cleaned_words.append(word)\n            \n# stem or lemmatise words - this uses PorterStemmer()\n    \n    lemmatizer = PorterStemmer()\n    stemmed_words = []\n    for word in cleaned_words:\n        word = lemmatizer.stem(word)\n        stemmed_words.append(word)\n    \n    # converting list back to string\n    return \" \".join(stemmed_words)",
      "metadata": {
        "trusted": true
      },
      "execution_count": 17,
      "outputs": []
    },
    {
      "cell_type": "code",
      "source": "df_simple['text'] = df_simple['text'].apply(preprocess)",
      "metadata": {
        "trusted": true
      },
      "execution_count": 18,
      "outputs": []
    },
    {
      "cell_type": "code",
      "source": "df_simple.head()",
      "metadata": {
        "trusted": true
      },
      "execution_count": 19,
      "outputs": [
        {
          "execution_count": 19,
          "output_type": "execute_result",
          "data": {
            "text/plain": "               started  duration  \\\n0  2023-06-25 11:11:36  00:03:37   \n1  2023-06-20 12:29:27  00:00:19   \n2  2023-06-18 21:29:46  00:00:01   \n3  2023-06-18 21:11:35  00:03:59   \n4  2023-06-16 12:04:16  00:03:21   \n\n                                                text  \n0  commun member public librari space lenoir rhyn...  \n1      hour today rudisil librari open pm today june  \n2                                                     \n3  librari open tomorrow librari chat servic jon ...  \n4  wonder copi articl bank relat therapi trauma j...  ",
            "text/html": "<div>\n<style scoped>\n    .dataframe tbody tr th:only-of-type {\n        vertical-align: middle;\n    }\n\n    .dataframe tbody tr th {\n        vertical-align: top;\n    }\n\n    .dataframe thead th {\n        text-align: right;\n    }\n</style>\n<table border=\"1\" class=\"dataframe\">\n  <thead>\n    <tr style=\"text-align: right;\">\n      <th></th>\n      <th>started</th>\n      <th>duration</th>\n      <th>text</th>\n    </tr>\n  </thead>\n  <tbody>\n    <tr>\n      <th>0</th>\n      <td>2023-06-25 11:11:36</td>\n      <td>00:03:37</td>\n      <td>commun member public librari space lenoir rhyn...</td>\n    </tr>\n    <tr>\n      <th>1</th>\n      <td>2023-06-20 12:29:27</td>\n      <td>00:00:19</td>\n      <td>hour today rudisil librari open pm today june</td>\n    </tr>\n    <tr>\n      <th>2</th>\n      <td>2023-06-18 21:29:46</td>\n      <td>00:00:01</td>\n      <td></td>\n    </tr>\n    <tr>\n      <th>3</th>\n      <td>2023-06-18 21:11:35</td>\n      <td>00:03:59</td>\n      <td>librari open tomorrow librari chat servic jon ...</td>\n    </tr>\n    <tr>\n      <th>4</th>\n      <td>2023-06-16 12:04:16</td>\n      <td>00:03:21</td>\n      <td>wonder copi articl bank relat therapi trauma j...</td>\n    </tr>\n  </tbody>\n</table>\n</div>"
          },
          "metadata": {}
        }
      ]
    },
    {
      "cell_type": "code",
      "source": "# topic modeling basics from\n# https://ourcodingclub.github.io/tutorials/topic-modelling-python/\n# THIS USES THE ENTIRE DATASET THEN FITS IT TO THE MODEL TRAINED ON THAT DATASET WHICH IS NOT GOOD PRACTICE DUE TO THE\n# THREAT OF OVERFITTING. # BELOW THIS IS A SPLIT TEST/TRAIN VERSION\n\n###### 1. TRAIN AND FIT ON THE SAME MODEL -->\n\n\n# uses LDA model\nfrom sklearn.feature_extraction.text import CountVectorizer\n\n# the vectorizer object will be used to transform text to vector form\n# max_df 0.9 is remove any word in 90%+ of tweets. min_df is minimum occurence of 25.\nvectorizer = CountVectorizer(max_df=0.9, min_df=25, token_pattern='\\w+|\\$[\\d\\.]+|\\S+')\n\n# apply transformation\ntf = vectorizer.fit_transform(df_simple['text']).toarray()\n\n# tf_feature_names tells us what word each column in the matrix represents\ntf_feature_names = vectorizer.get_feature_names_out()",
      "metadata": {
        "trusted": true
      },
      "execution_count": 20,
      "outputs": []
    },
    {
      "cell_type": "code",
      "source": "print(tf_feature_names)",
      "metadata": {
        "trusted": true
      },
      "execution_count": 21,
      "outputs": [
        {
          "name": "stdout",
          "text": "['abstract' 'aca' 'academ' 'accept' 'access' 'account' 'act' 'activ'\n 'actual' 'ad' 'add' 'addit' 'address' 'adjunct' 'administr' 'adolesc'\n 'adult' 'advanc' 'advis' 'affect' 'afraid' 'afternoon' 'age' 'ago' 'ah'\n 'ahead' 'alex' 'alexa' 'alli' 'allow' 'alphabet' 'alright' 'alumni'\n 'amelia' 'american' 'amp' 'analysi' 'ann' 'answer' 'anymor' 'apa'\n 'apolog' 'appalachian' 'appear' 'appli' 'appoint' 'approach' 'archiv'\n 'area' 'aren' 'articl' 'ash' 'ashevil' 'ask' 'assess' 'assign' 'assist'\n 'associ' 'assum' 'attach' 'attempt' 'attend' 'author' 'automat' 'awesom'\n 'back' 'bad' 'bar' 'barcod' 'base' 'basic' 'begin' 'behavior' 'bet' 'big'\n 'bit' 'book' 'bookstor' 'borrow' 'box' 'break' 'bring' 'broad' 'brows'\n 'browser' 'build' 'burl' 'busi' 'button' 'bye' 'cach' 'call' 'campu'\n 'canva' 'card' 'care' 'carl' 'carolina' 'carri' 'case' 'catalog'\n 'catawba' 'categori' 'center' 'central' 'chanc' 'chang' 'chapter' 'charl'\n 'charlott' 'chat' 'check' 'child' 'children' 'choos' 'christian' 'chrome'\n 'cinahl' 'circ' 'circul' 'citat' 'cite' 'class' 'clear' 'click' 'clinic'\n 'close' 'code' 'collect' 'colleg' 'columbia' 'combin' 'come' 'common'\n 'commun' 'complet' 'comput' 'confirm' 'confus' 'connect' 'contact'\n 'content' 'continu' 'conveni' 'cool' 'copi' 'correct' 'correctli' 'cost'\n 'couldn' 'counsel' 'counti' 'coupl' 'cover' 'covid' 'cq' 'creat'\n 'credenti' 'cultur' 'curiou' 'current' 'data' 'databas' 'date' 'day'\n 'deal' 'delay' 'demand' 'depart' 'depend' 'depress' 'desk' 'detail'\n 'determin' 'develop' 'didn' 'didnt' 'dietet' 'differ' 'difficult'\n 'difficulti' 'digit' 'direct' 'directli' 'disconnect' 'discuss' 'disord'\n 'document' 'doesn' 'doi' 'don' 'dont' 'doubl' 'download' 'dr' 'drop'\n 'due' 'dvd' 'earli' 'earlier' 'easier' 'ebook' 'ebsco' 'ebscohost'\n 'econom' 'edit' 'educ' 'effect' 'electron' 'email' 'encyclopedia' 'end'\n 'engin' 'english' 'enrol' 'enter' 'entir' 'eric' 'error' 'ethic' 'even'\n 'exact' 'exam' 'experi' 'expir' 'explain' 'explor' 'faculti' 'fall'\n 'famili' 'familiar' 'featur' 'feel' 'field' 'figur' 'file' 'fill' 'film'\n 'final' 'find' 'finder' 'fine' 'finish' 'firefox' 'fix' 'floor' 'folder'\n 'follow' 'forbidden' 'forgot' 'forgotten' 'form' 'format' 'forward'\n 'found' 'frank' 'free' 'friday' 'front' 'full' 'function' 'futur' 'fye'\n 'gain' 'gave' 'gender' 'gener' 'give' 'glad' 'gmail' 'god' 'good' 'googl'\n 'grab' 'grad' 'graduat' 'great' 'group' 'guess' 'guest' 'guid' 'guidanc'\n 'guy' 'haha' 'hall' 'hand' 'hang' 'happen' 'happi' 'hard' 'haven' 'head'\n 'health' 'heard' 'help' 'hey' 'hickori' 'high' 'histor' 'histori' 'hit'\n 'hmm' 'hmmm' 'hold' 'home' 'homepag' 'hope' 'host' 'hour' 'hous' 'human'\n 'id' 'idea' 'identifi' 'ill' 'im' 'impact' 'import' 'includ' 'incorrect'\n 'individu' 'info' 'inform' 'initi' 'institut' 'instruct' 'instructor'\n 'interest' 'interlibrari' 'intern' 'internet' 'invalid' 'isn' 'issu'\n 'item' 'ive' 'jay' 'jenna' 'john' 'jon' 'journal' 'jstor' 'key' 'keyword'\n 'kind' 'lab' 'lamp' 'laptop' 'late' 'lead' 'learn' 'leav' 'lee' 'left'\n 'lenoir' 'let' 'letter' 'level' 'libguid' 'librari' 'librarian' 'licens'\n 'life' 'limit' 'line' 'link' 'list' 'literatur' 'live' 'll' 'load' 'loan'\n 'local' 'locat' 'log' 'login' 'lol' 'long' 'longer' 'look' 'lost' 'lot'\n 'love' 'lr' 'lru' 'luck' 'made' 'magazin' 'mail' 'main' 'major' 'make'\n 'manag' 'manual' 'mark' 'master' 'materi' 'math' 'matter' 'mccuiston'\n 'mean' 'meantim' 'measur' 'media' 'medic' 'medicin' 'meet' 'member'\n 'mental' 'mention' 'messag' 'method' 'middl' 'midnight' 'mind' 'mine'\n 'minut' 'miss' 'mla' 'moment' 'monday' 'month' 'morn' 'multipl' 'music'\n 'mylr' 'name' 'nan' 'narrow' 'navig' 'naxo' 'nc' 'ncknow' 'nclive' 'need'\n 'network' 'nevermind' 'news' 'newspap' 'nice' 'night' 'nope' 'normal'\n 'north' 'note' 'notic' 'number' 'nurs' 'nutrit' 'occup' 'offcampu'\n 'offer' 'offic' 'offlin' 'omit' 'onlin' 'open' 'option' 'order' 'org'\n 'organ' 'origin' 'page' 'paper' 'part' 'pass' 'password' 'past' 'pat'\n 'patient' 'patric' 'patron' 'pay' 'pdf' 'peer' 'peopl' 'perfect' 'period'\n 'permit' 'person' 'phillip' 'phone' 'phrase' 'physic' 'pick' 'place'\n 'plan' 'play' 'pm' 'point' 'polici' 'polit' 'pop' 'popul' 'portal'\n 'possibl' 'post' 'power' 'powersearch' 'practic' 'prefer' 'premier'\n 'present' 'pretti' 'primari' 'print' 'printer' 'privileg' 'problem'\n 'process' 'profession' 'professor' 'profil' 'program' 'project' 'prompt'\n 'proquest' 'provid' 'proxi' 'psychinfo' 'psycholog' 'psycinfo' 'public'\n 'publish' 'pubm' 'pull' 'purchas' 'put' 'pw' 'quantit' 'question' 'quick'\n 'quickli' 'quiet' 'quot' 'rate' 'reach' 'read' 'real' 'reason' 'receiv'\n 'recent' 'recommend' 'record' 'refdesk' 'refer' 'regist' 'registr'\n 'regular' 'relat' 'relationship' 'relev' 'religion' 'rememb' 'remot'\n 'remov' 'renew' 'replac' 'report' 'request' 'requir' 'research' 'reserv'\n 'reset' 'resid' 'resourc' 'respond' 'respons' 'rest' 'result' 'retriev'\n 'return' 'review' 'rhyne' 'room' 'rudisil' 'run' 'sarah' 'saturday'\n 'save' 'schedul' 'scholar' 'scholarli' 'school' 'scienc' 'screen'\n 'scroll' 'search' 'sec' 'section' 'select' 'semest' 'send' 'sens' 'separ'\n 'server' 'servic' 'session' 'set' 'sexual' 'share' 'short' 'shortli'\n 'show' 'side' 'sign' 'similar' 'site' 'small' 'social' 'sociolog' 'sort'\n 'sound' 'sourc' 'space' 'speak' 'special' 'specif' 'spring' 'stack'\n 'staf' 'staff' 'stand' 'start' 'state' 'statewid' 'statist' 'statu'\n 'stay' 'step' 'stop' 'student' 'studi' 'stuff' 'style' 'subject' 'submit'\n 'subscrib' 'subscript' 'success' 'suggest' 'summer' 'summon' 'sunday'\n 'support' 'suppos' 'system' 'tab' 'tag' 'take' 'talk' 'teach' 'teacher'\n 'tell' 'temporari' 'term' 'test' 'text' 'textbook' 'theori' 'therapi'\n 'thing' 'think' 'thought' 'thursday' 'time' 'titl' 'today' 'told'\n 'tomorrow' 'tonight' 'tool' 'top' 'topic' 'touch' 'track' 'transfer'\n 'troubl' 'tuesday' 'turn' 'tutor' 'type' 'unabl' 'understand' 'univers'\n 'updat' 'url' 'user' 'usernam' 've' 'version' 'video' 'view' 'virtual'\n 'visit' 'vol' 'volum' 'wait' 'walk' 'want' 'wasn' 'way' 'web' 'webpag'\n 'websit' 'week' 'weekend' 'what' 'wide' 'wifi' 'window' 'women' 'won'\n 'wonder' 'wont' 'word' 'work' 'world' 'worldcat' 'worri' 'wouldn' 'wow'\n 'write' 'wrong' 'www' 'yeah' 'year' 'yearbook' 'yep' 'yesterday' 'zero']\n",
          "output_type": "stream"
        }
      ]
    },
    {
      "cell_type": "code",
      "source": "len(tf_feature_names)",
      "metadata": {
        "trusted": true
      },
      "execution_count": 22,
      "outputs": [
        {
          "execution_count": 22,
          "output_type": "execute_result",
          "data": {
            "text/plain": "731"
          },
          "metadata": {}
        }
      ]
    },
    {
      "cell_type": "code",
      "source": "# applies the actual LDA model\nfrom sklearn.decomposition import LatentDirichletAllocation\n\n# change this to fit as needed\nnumber_of_topics = 5\n\nmodel = LatentDirichletAllocation(n_components=number_of_topics, random_state=0)",
      "metadata": {
        "trusted": true
      },
      "execution_count": 23,
      "outputs": []
    },
    {
      "cell_type": "code",
      "source": "model.fit(tf)",
      "metadata": {
        "trusted": true
      },
      "execution_count": 24,
      "outputs": [
        {
          "execution_count": 24,
          "output_type": "execute_result",
          "data": {
            "text/plain": "LatentDirichletAllocation(n_components=5, random_state=0)",
            "text/html": "<style>#sk-container-id-1 {color: black;background-color: white;}#sk-container-id-1 pre{padding: 0;}#sk-container-id-1 div.sk-toggleable {background-color: white;}#sk-container-id-1 label.sk-toggleable__label {cursor: pointer;display: block;width: 100%;margin-bottom: 0;padding: 0.3em;box-sizing: border-box;text-align: center;}#sk-container-id-1 label.sk-toggleable__label-arrow:before {content: \"▸\";float: left;margin-right: 0.25em;color: #696969;}#sk-container-id-1 label.sk-toggleable__label-arrow:hover:before {color: black;}#sk-container-id-1 div.sk-estimator:hover label.sk-toggleable__label-arrow:before {color: black;}#sk-container-id-1 div.sk-toggleable__content {max-height: 0;max-width: 0;overflow: hidden;text-align: left;background-color: #f0f8ff;}#sk-container-id-1 div.sk-toggleable__content pre {margin: 0.2em;color: black;border-radius: 0.25em;background-color: #f0f8ff;}#sk-container-id-1 input.sk-toggleable__control:checked~div.sk-toggleable__content {max-height: 200px;max-width: 100%;overflow: auto;}#sk-container-id-1 input.sk-toggleable__control:checked~label.sk-toggleable__label-arrow:before {content: \"▾\";}#sk-container-id-1 div.sk-estimator input.sk-toggleable__control:checked~label.sk-toggleable__label {background-color: #d4ebff;}#sk-container-id-1 div.sk-label input.sk-toggleable__control:checked~label.sk-toggleable__label {background-color: #d4ebff;}#sk-container-id-1 input.sk-hidden--visually {border: 0;clip: rect(1px 1px 1px 1px);clip: rect(1px, 1px, 1px, 1px);height: 1px;margin: -1px;overflow: hidden;padding: 0;position: absolute;width: 1px;}#sk-container-id-1 div.sk-estimator {font-family: monospace;background-color: #f0f8ff;border: 1px dotted black;border-radius: 0.25em;box-sizing: border-box;margin-bottom: 0.5em;}#sk-container-id-1 div.sk-estimator:hover {background-color: #d4ebff;}#sk-container-id-1 div.sk-parallel-item::after {content: \"\";width: 100%;border-bottom: 1px solid gray;flex-grow: 1;}#sk-container-id-1 div.sk-label:hover label.sk-toggleable__label {background-color: #d4ebff;}#sk-container-id-1 div.sk-serial::before {content: \"\";position: absolute;border-left: 1px solid gray;box-sizing: border-box;top: 0;bottom: 0;left: 50%;z-index: 0;}#sk-container-id-1 div.sk-serial {display: flex;flex-direction: column;align-items: center;background-color: white;padding-right: 0.2em;padding-left: 0.2em;position: relative;}#sk-container-id-1 div.sk-item {position: relative;z-index: 1;}#sk-container-id-1 div.sk-parallel {display: flex;align-items: stretch;justify-content: center;background-color: white;position: relative;}#sk-container-id-1 div.sk-item::before, #sk-container-id-1 div.sk-parallel-item::before {content: \"\";position: absolute;border-left: 1px solid gray;box-sizing: border-box;top: 0;bottom: 0;left: 50%;z-index: -1;}#sk-container-id-1 div.sk-parallel-item {display: flex;flex-direction: column;z-index: 1;position: relative;background-color: white;}#sk-container-id-1 div.sk-parallel-item:first-child::after {align-self: flex-end;width: 50%;}#sk-container-id-1 div.sk-parallel-item:last-child::after {align-self: flex-start;width: 50%;}#sk-container-id-1 div.sk-parallel-item:only-child::after {width: 0;}#sk-container-id-1 div.sk-dashed-wrapped {border: 1px dashed gray;margin: 0 0.4em 0.5em 0.4em;box-sizing: border-box;padding-bottom: 0.4em;background-color: white;}#sk-container-id-1 div.sk-label label {font-family: monospace;font-weight: bold;display: inline-block;line-height: 1.2em;}#sk-container-id-1 div.sk-label-container {text-align: center;}#sk-container-id-1 div.sk-container {/* jupyter's `normalize.less` sets `[hidden] { display: none; }` but bootstrap.min.css set `[hidden] { display: none !important; }` so we also need the `!important` here to be able to override the default hidden behavior on the sphinx rendered scikit-learn.org. See: https://github.com/scikit-learn/scikit-learn/issues/21755 */display: inline-block !important;position: relative;}#sk-container-id-1 div.sk-text-repr-fallback {display: none;}</style><div id=\"sk-container-id-1\" class=\"sk-top-container\"><div class=\"sk-text-repr-fallback\"><pre>LatentDirichletAllocation(n_components=5, random_state=0)</pre><b>In a Jupyter environment, please rerun this cell to show the HTML representation or trust the notebook. <br />On GitHub, the HTML representation is unable to render, please try loading this page with nbviewer.org.</b></div><div class=\"sk-container\" hidden><div class=\"sk-item\"><div class=\"sk-estimator sk-toggleable\"><input class=\"sk-toggleable__control sk-hidden--visually\" id=\"sk-estimator-id-1\" type=\"checkbox\" checked><label for=\"sk-estimator-id-1\" class=\"sk-toggleable__label sk-toggleable__label-arrow\">LatentDirichletAllocation</label><div class=\"sk-toggleable__content\"><pre>LatentDirichletAllocation(n_components=5, random_state=0)</pre></div></div></div></div></div>"
          },
          "metadata": {}
        }
      ]
    },
    {
      "cell_type": "code",
      "source": "# function to apply model to \n# what this does: takes the LDA model, topics in each topic, number of topic words per topic, then creates a dataframe\n# to display\ndef display_topics(model, feature_names, no_top_words):\n    topic_dict = {}\n    for topic_idx, topic in enumerate(model.components_):\n        topic_dict[\"Topic %d words\" % (topic_idx)]= ['{}'.format(feature_names[i])\n                        for i in topic.argsort()[:-no_top_words - 1:-1]]\n        topic_dict[\"Topic %d weights\" % (topic_idx)]= ['{:.1f}'.format(topic[i])\n                        for i in topic.argsort()[:-no_top_words - 1:-1]]\n    return pd.DataFrame(topic_dict)",
      "metadata": {
        "trusted": true
      },
      "execution_count": 25,
      "outputs": []
    },
    {
      "cell_type": "code",
      "source": "no_top_words = 5 #number of words in each topic \ndisplay_topics(model, tf_feature_names, no_top_words)",
      "metadata": {
        "trusted": true
      },
      "execution_count": 26,
      "outputs": [
        {
          "execution_count": 26,
          "output_type": "execute_result",
          "data": {
            "text/plain": "  Topic 0 words Topic 0 weights Topic 1 words Topic 1 weights Topic 2 words  \\\n0       librari          2641.5        articl          2817.8          book   \n1          chat           988.7        search          2740.9         check   \n2        servic           775.4          find          1732.6         email   \n3          open           633.6       journal          1357.0       librari   \n4         check           532.5       databas          1080.4            ll   \n\n  Topic 2 weights Topic 3 words Topic 3 weights Topic 4 words Topic 4 weights  \n0          1428.6        access          1719.7      password          2071.8  \n1          1157.8       librari          1290.5            lr          1539.1  \n2           950.0       databas           954.8            id          1321.2  \n3           634.9         campu           718.3         campu          1184.9  \n4           607.3           log           684.8       usernam          1084.0  ",
            "text/html": "<div>\n<style scoped>\n    .dataframe tbody tr th:only-of-type {\n        vertical-align: middle;\n    }\n\n    .dataframe tbody tr th {\n        vertical-align: top;\n    }\n\n    .dataframe thead th {\n        text-align: right;\n    }\n</style>\n<table border=\"1\" class=\"dataframe\">\n  <thead>\n    <tr style=\"text-align: right;\">\n      <th></th>\n      <th>Topic 0 words</th>\n      <th>Topic 0 weights</th>\n      <th>Topic 1 words</th>\n      <th>Topic 1 weights</th>\n      <th>Topic 2 words</th>\n      <th>Topic 2 weights</th>\n      <th>Topic 3 words</th>\n      <th>Topic 3 weights</th>\n      <th>Topic 4 words</th>\n      <th>Topic 4 weights</th>\n    </tr>\n  </thead>\n  <tbody>\n    <tr>\n      <th>0</th>\n      <td>librari</td>\n      <td>2641.5</td>\n      <td>articl</td>\n      <td>2817.8</td>\n      <td>book</td>\n      <td>1428.6</td>\n      <td>access</td>\n      <td>1719.7</td>\n      <td>password</td>\n      <td>2071.8</td>\n    </tr>\n    <tr>\n      <th>1</th>\n      <td>chat</td>\n      <td>988.7</td>\n      <td>search</td>\n      <td>2740.9</td>\n      <td>check</td>\n      <td>1157.8</td>\n      <td>librari</td>\n      <td>1290.5</td>\n      <td>lr</td>\n      <td>1539.1</td>\n    </tr>\n    <tr>\n      <th>2</th>\n      <td>servic</td>\n      <td>775.4</td>\n      <td>find</td>\n      <td>1732.6</td>\n      <td>email</td>\n      <td>950.0</td>\n      <td>databas</td>\n      <td>954.8</td>\n      <td>id</td>\n      <td>1321.2</td>\n    </tr>\n    <tr>\n      <th>3</th>\n      <td>open</td>\n      <td>633.6</td>\n      <td>journal</td>\n      <td>1357.0</td>\n      <td>librari</td>\n      <td>634.9</td>\n      <td>campu</td>\n      <td>718.3</td>\n      <td>campu</td>\n      <td>1184.9</td>\n    </tr>\n    <tr>\n      <th>4</th>\n      <td>check</td>\n      <td>532.5</td>\n      <td>databas</td>\n      <td>1080.4</td>\n      <td>ll</td>\n      <td>607.3</td>\n      <td>log</td>\n      <td>684.8</td>\n      <td>usernam</td>\n      <td>1084.0</td>\n    </tr>\n  </tbody>\n</table>\n</div>"
          },
          "metadata": {}
        }
      ]
    },
    {
      "cell_type": "code",
      "source": "# not bad for a first try!\n# topic 0: hours / topic 1: db access and retrieval / topic 2: physical book, ill, catalog topic 3: off-campus\n# access? / topic 4: login problems \n\n#how to evaluate an LDA model? can use COHERENCE. the function below from https://stackoverflow.com/a/75248956\n# does this with the model and the df column as args. this function takes scikitlearn LDA format\n# and converts to gensim library format to evaluate the coherece of the model. \n\n# what is COHERENCE? from https://stackoverflow.com/q/52102961\n# Topic Coherence is a useful metric for measuring the human interpretability of a given LDA topic model. \n# Gensim's CoherenceModel allows Topic Coherence to be calculated for a given LDA model (several variants are included).\n\n# a better description of the coherence pipline: https://towardsdatascience.com/understanding-topic-coherence-measures-4aa41339634c\n\n\nfrom gensim.models import CoherenceModel\nimport gensim.corpora as corpora\n\ndef get_Cv(model, df_columnm):\n  topics = model.components_\n\n  n_top_words = 20\n  texts = [[word for word in doc.split()] for doc in df_columnm]\n\n  # create the dictionary\n  dictionary = corpora.Dictionary(texts)\n  # Create a gensim dictionary from the word count matrix\n\n  # Create a gensim corpus from the word count matrix\n  corpus = [dictionary.doc2bow(text) for text in texts]\n\n  feature_names = [dictionary[i] for i in range(len(dictionary))]\n\n  # Get the top words for each topic from the components_ attribute\n  top_words = []\n  for topic in topics:\n      top_words.append([feature_names[i] for i in topic.argsort()[:-n_top_words - 1:-1]])\n\n  coherence_model = CoherenceModel(topics=top_words, texts=texts, dictionary=dictionary, coherence='c_v')\n  coherence = coherence_model.get_coherence()\n  return coherence",
      "metadata": {
        "trusted": true
      },
      "execution_count": 27,
      "outputs": []
    },
    {
      "cell_type": "code",
      "source": "print(get_Cv(model, df_simple['text']))",
      "metadata": {
        "trusted": true
      },
      "execution_count": 28,
      "outputs": [
        {
          "name": "stdout",
          "text": "0.5182804286186614\n",
          "output_type": "stream"
        }
      ]
    },
    {
      "cell_type": "code",
      "source": "###### 2. SPLIT INTO TRAIN AND TEST THEN APPLY THE SAME.\n\n# random split function from https://stackoverflow.com/questions/63022043/how-to-split-datatable-dataframe-into-train-and-test-dataset-in-python\nfrom sklearn.model_selection import train_test_split\n# 20% split of tokenized and lemmatized text column\ntrain, test = train_test_split(df_simple, test_size=0.2, random_state=42)",
      "metadata": {
        "trusted": true
      },
      "execution_count": 29,
      "outputs": []
    },
    {
      "cell_type": "code",
      "source": "train.count()",
      "metadata": {
        "trusted": true
      },
      "execution_count": 30,
      "outputs": [
        {
          "execution_count": 30,
          "output_type": "execute_result",
          "data": {
            "text/plain": "started     5208\nduration    4941\ntext        5208\ndtype: int64"
          },
          "metadata": {}
        }
      ]
    },
    {
      "cell_type": "code",
      "source": "test.count()",
      "metadata": {
        "trusted": true
      },
      "execution_count": 31,
      "outputs": [
        {
          "execution_count": 31,
          "output_type": "execute_result",
          "data": {
            "text/plain": "started     1303\nduration    1224\ntext        1303\ndtype: int64"
          },
          "metadata": {}
        }
      ]
    },
    {
      "cell_type": "code",
      "source": "# so do all the above things to the train sert to make it ready for LDA then evaluation\n\n\n# the vectorizer object will be used to transform text to vector form\n# max_df 0.9 is remove any word in 90%+ of tweets. min_df is minimum occurence of 25.\nvectorizer = CountVectorizer(max_df=0.9, min_df=25, token_pattern='\\w+|\\$[\\d\\.]+|\\S+')\n\n# apply transformation\ntf_train = vectorizer.fit_transform(train['text']).toarray()\n\n# tf_feature_names tells us what word each column in the matrix represents\ntf_train_feature_names = vectorizer.get_feature_names_out()\nprint(len(tf_train_feature_names))",
      "metadata": {
        "trusted": true
      },
      "execution_count": 32,
      "outputs": [
        {
          "name": "stdout",
          "text": "630\n",
          "output_type": "stream"
        }
      ]
    },
    {
      "cell_type": "code",
      "source": "# applies the actual LDA model to the training set\n# change this to fit as needed\nnumber_of_topics = 5\nmodel_train = LatentDirichletAllocation(n_components=number_of_topics, random_state=0)\nmodel_train.fit(tf_train)",
      "metadata": {
        "trusted": true
      },
      "execution_count": 33,
      "outputs": [
        {
          "execution_count": 33,
          "output_type": "execute_result",
          "data": {
            "text/plain": "LatentDirichletAllocation(n_components=5, random_state=0)",
            "text/html": "<style>#sk-container-id-2 {color: black;background-color: white;}#sk-container-id-2 pre{padding: 0;}#sk-container-id-2 div.sk-toggleable {background-color: white;}#sk-container-id-2 label.sk-toggleable__label {cursor: pointer;display: block;width: 100%;margin-bottom: 0;padding: 0.3em;box-sizing: border-box;text-align: center;}#sk-container-id-2 label.sk-toggleable__label-arrow:before {content: \"▸\";float: left;margin-right: 0.25em;color: #696969;}#sk-container-id-2 label.sk-toggleable__label-arrow:hover:before {color: black;}#sk-container-id-2 div.sk-estimator:hover label.sk-toggleable__label-arrow:before {color: black;}#sk-container-id-2 div.sk-toggleable__content {max-height: 0;max-width: 0;overflow: hidden;text-align: left;background-color: #f0f8ff;}#sk-container-id-2 div.sk-toggleable__content pre {margin: 0.2em;color: black;border-radius: 0.25em;background-color: #f0f8ff;}#sk-container-id-2 input.sk-toggleable__control:checked~div.sk-toggleable__content {max-height: 200px;max-width: 100%;overflow: auto;}#sk-container-id-2 input.sk-toggleable__control:checked~label.sk-toggleable__label-arrow:before {content: \"▾\";}#sk-container-id-2 div.sk-estimator input.sk-toggleable__control:checked~label.sk-toggleable__label {background-color: #d4ebff;}#sk-container-id-2 div.sk-label input.sk-toggleable__control:checked~label.sk-toggleable__label {background-color: #d4ebff;}#sk-container-id-2 input.sk-hidden--visually {border: 0;clip: rect(1px 1px 1px 1px);clip: rect(1px, 1px, 1px, 1px);height: 1px;margin: -1px;overflow: hidden;padding: 0;position: absolute;width: 1px;}#sk-container-id-2 div.sk-estimator {font-family: monospace;background-color: #f0f8ff;border: 1px dotted black;border-radius: 0.25em;box-sizing: border-box;margin-bottom: 0.5em;}#sk-container-id-2 div.sk-estimator:hover {background-color: #d4ebff;}#sk-container-id-2 div.sk-parallel-item::after {content: \"\";width: 100%;border-bottom: 1px solid gray;flex-grow: 1;}#sk-container-id-2 div.sk-label:hover label.sk-toggleable__label {background-color: #d4ebff;}#sk-container-id-2 div.sk-serial::before {content: \"\";position: absolute;border-left: 1px solid gray;box-sizing: border-box;top: 0;bottom: 0;left: 50%;z-index: 0;}#sk-container-id-2 div.sk-serial {display: flex;flex-direction: column;align-items: center;background-color: white;padding-right: 0.2em;padding-left: 0.2em;position: relative;}#sk-container-id-2 div.sk-item {position: relative;z-index: 1;}#sk-container-id-2 div.sk-parallel {display: flex;align-items: stretch;justify-content: center;background-color: white;position: relative;}#sk-container-id-2 div.sk-item::before, #sk-container-id-2 div.sk-parallel-item::before {content: \"\";position: absolute;border-left: 1px solid gray;box-sizing: border-box;top: 0;bottom: 0;left: 50%;z-index: -1;}#sk-container-id-2 div.sk-parallel-item {display: flex;flex-direction: column;z-index: 1;position: relative;background-color: white;}#sk-container-id-2 div.sk-parallel-item:first-child::after {align-self: flex-end;width: 50%;}#sk-container-id-2 div.sk-parallel-item:last-child::after {align-self: flex-start;width: 50%;}#sk-container-id-2 div.sk-parallel-item:only-child::after {width: 0;}#sk-container-id-2 div.sk-dashed-wrapped {border: 1px dashed gray;margin: 0 0.4em 0.5em 0.4em;box-sizing: border-box;padding-bottom: 0.4em;background-color: white;}#sk-container-id-2 div.sk-label label {font-family: monospace;font-weight: bold;display: inline-block;line-height: 1.2em;}#sk-container-id-2 div.sk-label-container {text-align: center;}#sk-container-id-2 div.sk-container {/* jupyter's `normalize.less` sets `[hidden] { display: none; }` but bootstrap.min.css set `[hidden] { display: none !important; }` so we also need the `!important` here to be able to override the default hidden behavior on the sphinx rendered scikit-learn.org. See: https://github.com/scikit-learn/scikit-learn/issues/21755 */display: inline-block !important;position: relative;}#sk-container-id-2 div.sk-text-repr-fallback {display: none;}</style><div id=\"sk-container-id-2\" class=\"sk-top-container\"><div class=\"sk-text-repr-fallback\"><pre>LatentDirichletAllocation(n_components=5, random_state=0)</pre><b>In a Jupyter environment, please rerun this cell to show the HTML representation or trust the notebook. <br />On GitHub, the HTML representation is unable to render, please try loading this page with nbviewer.org.</b></div><div class=\"sk-container\" hidden><div class=\"sk-item\"><div class=\"sk-estimator sk-toggleable\"><input class=\"sk-toggleable__control sk-hidden--visually\" id=\"sk-estimator-id-2\" type=\"checkbox\" checked><label for=\"sk-estimator-id-2\" class=\"sk-toggleable__label sk-toggleable__label-arrow\">LatentDirichletAllocation</label><div class=\"sk-toggleable__content\"><pre>LatentDirichletAllocation(n_components=5, random_state=0)</pre></div></div></div></div></div>"
          },
          "metadata": {}
        }
      ]
    },
    {
      "cell_type": "code",
      "source": "display_topics(model_train, tf_train_feature_names, no_top_words)",
      "metadata": {
        "trusted": true
      },
      "execution_count": 34,
      "outputs": [
        {
          "execution_count": 34,
          "output_type": "execute_result",
          "data": {
            "text/plain": "  Topic 0 words Topic 0 weights Topic 1 words Topic 1 weights Topic 2 words  \\\n0        access           772.6       librari          2178.9        access   \n1       librari           566.0          book          1128.3         email   \n2         campu           389.6         check           862.0       librari   \n3          link           347.7          chat           589.3           log   \n4         onlin           274.2        servic           514.9          work   \n\n  Topic 2 weights Topic 3 words Topic 3 weights Topic 4 words Topic 4 weights  \n0           681.8        articl          2425.6      password          1863.4  \n1           603.4        search          2238.8            lr          1217.2  \n2           544.0          find          1441.0            id          1064.2  \n3           450.9       journal          1056.9         campu           983.5  \n4           415.1       databas          1052.5       usernam           874.0  ",
            "text/html": "<div>\n<style scoped>\n    .dataframe tbody tr th:only-of-type {\n        vertical-align: middle;\n    }\n\n    .dataframe tbody tr th {\n        vertical-align: top;\n    }\n\n    .dataframe thead th {\n        text-align: right;\n    }\n</style>\n<table border=\"1\" class=\"dataframe\">\n  <thead>\n    <tr style=\"text-align: right;\">\n      <th></th>\n      <th>Topic 0 words</th>\n      <th>Topic 0 weights</th>\n      <th>Topic 1 words</th>\n      <th>Topic 1 weights</th>\n      <th>Topic 2 words</th>\n      <th>Topic 2 weights</th>\n      <th>Topic 3 words</th>\n      <th>Topic 3 weights</th>\n      <th>Topic 4 words</th>\n      <th>Topic 4 weights</th>\n    </tr>\n  </thead>\n  <tbody>\n    <tr>\n      <th>0</th>\n      <td>access</td>\n      <td>772.6</td>\n      <td>librari</td>\n      <td>2178.9</td>\n      <td>access</td>\n      <td>681.8</td>\n      <td>articl</td>\n      <td>2425.6</td>\n      <td>password</td>\n      <td>1863.4</td>\n    </tr>\n    <tr>\n      <th>1</th>\n      <td>librari</td>\n      <td>566.0</td>\n      <td>book</td>\n      <td>1128.3</td>\n      <td>email</td>\n      <td>603.4</td>\n      <td>search</td>\n      <td>2238.8</td>\n      <td>lr</td>\n      <td>1217.2</td>\n    </tr>\n    <tr>\n      <th>2</th>\n      <td>campu</td>\n      <td>389.6</td>\n      <td>check</td>\n      <td>862.0</td>\n      <td>librari</td>\n      <td>544.0</td>\n      <td>find</td>\n      <td>1441.0</td>\n      <td>id</td>\n      <td>1064.2</td>\n    </tr>\n    <tr>\n      <th>3</th>\n      <td>link</td>\n      <td>347.7</td>\n      <td>chat</td>\n      <td>589.3</td>\n      <td>log</td>\n      <td>450.9</td>\n      <td>journal</td>\n      <td>1056.9</td>\n      <td>campu</td>\n      <td>983.5</td>\n    </tr>\n    <tr>\n      <th>4</th>\n      <td>onlin</td>\n      <td>274.2</td>\n      <td>servic</td>\n      <td>514.9</td>\n      <td>work</td>\n      <td>415.1</td>\n      <td>databas</td>\n      <td>1052.5</td>\n      <td>usernam</td>\n      <td>874.0</td>\n    </tr>\n  </tbody>\n</table>\n</div>"
          },
          "metadata": {}
        }
      ]
    },
    {
      "cell_type": "code",
      "source": "# tests coherence using the above function. note the model was LDA, the column is strictly the train split of 80%\nget_Cv(model_train, train['text'])",
      "metadata": {
        "trusted": true
      },
      "execution_count": 35,
      "outputs": [
        {
          "execution_count": 35,
          "output_type": "execute_result",
          "data": {
            "text/plain": "0.5672569212793231"
          },
          "metadata": {}
        }
      ]
    },
    {
      "cell_type": "code",
      "source": "len(train['text'])",
      "metadata": {
        "trusted": true
      },
      "execution_count": 36,
      "outputs": [
        {
          "execution_count": 36,
          "output_type": "execute_result",
          "data": {
            "text/plain": "5208"
          },
          "metadata": {}
        }
      ]
    },
    {
      "cell_type": "code",
      "source": "# a much lower number than the original. \n# what parameters can we change to improve the score? number of topics (components).# \n# loop from min to max topics then test coherence for each, then display results\n\ndef loop_LDA_topics(training_data, training_text, topic_count_min, topic_count_max):\n    \n    from matplotlib import pyplot as plt\n    \n    n = topic_count_min\n    coherence = {}\n\n    \n    while n <= topic_count_max: \n        # 1. fit the model and  as needed\n        model_train_func = LatentDirichletAllocation(n_components=n, random_state=0)\n        model_train_func.fit(training_data)\n        \n        # 2. convert to gensim and print coherence\n        #print(n, \" topics has a coherence of \", get_Cv(model_train_func, training_text))\n        \n        # 3. add results to dictionary\n        coherence[n] = get_Cv(model_train_func, training_text)\n        \n        # increment\n        n += 1\n        \n    #dictionary to dataframe\n    print(coherence)\n    df_train_coherence = pd.DataFrame.from_dict(coherence, orient='index', columns=['coherence'])\n    print(df_train_coherence)\n    # now graph\n    df_train_coherence.plot(kind='line', y='coherence', color='red', use_index=True)\n    plt.title('Coherence of Topic Models')\n    plt.show()",
      "metadata": {
        "trusted": true
      },
      "execution_count": 37,
      "outputs": []
    },
    {
      "cell_type": "code",
      "source": "# function with min 4-20 topics\nloop_LDA_topics(tf_train, train['text'], 4, 20)",
      "metadata": {
        "trusted": true
      },
      "execution_count": 38,
      "outputs": [
        {
          "name": "stdout",
          "text": "{4: 0.560778088136104, 5: 0.5672569212793231, 6: 0.5416373483564898, 7: 0.5384501748007847, 8: 0.5419466106368279, 9: 0.542641503492991, 10: 0.5437222004505542, 11: 0.5559222849328951, 12: 0.5387556964573875, 13: 0.5372384442916377, 14: 0.5413754491271356, 15: 0.5311078380892471, 16: 0.5398200761336034, 17: 0.5275146262591159, 18: 0.5386290029847598, 19: 0.5319367275097575, 20: 0.5396974031134232}\n    coherence\n4    0.560778\n5    0.567257\n6    0.541637\n7    0.538450\n8    0.541947\n9    0.542642\n10   0.543722\n11   0.555922\n12   0.538756\n13   0.537238\n14   0.541375\n15   0.531108\n16   0.539820\n17   0.527515\n18   0.538629\n19   0.531937\n20   0.539697\n",
          "output_type": "stream"
        },
        {
          "output_type": "display_data",
          "data": {
            "text/plain": "<Figure size 640x480 with 1 Axes>",
            "image/png": "[encoded data removed]"
          },
          "metadata": {}
        }
      ]
    },
    {
      "cell_type": "code",
      "source": "# this suggests 5, maybe 11, are the best number of topics for an LDA analysis.",
      "metadata": {
        "trusted": true
      },
      "execution_count": 39,
      "outputs": []
    }
  ]
}